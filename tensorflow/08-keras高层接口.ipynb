{
 "cells": [
  {
   "cell_type": "code",
   "execution_count": 13,
   "id": "5819ee2b",
   "metadata": {},
   "outputs": [],
   "source": [
    "import  tensorflow as tf\n",
    "from tensorflow import keras\n",
    "from    tensorflow.keras import datasets, layers, optimizers, Sequential, metrics"
   ]
  },
  {
   "cell_type": "code",
   "execution_count": 14,
   "id": "67fa11f0",
   "metadata": {},
   "outputs": [
    {
     "data": {
      "text/plain": [
       "<tf.Tensor: shape=(3,), dtype=float32, numpy=array([0.6590012, 0.242433 , 0.0985659], dtype=float32)>"
      ]
     },
     "execution_count": 14,
     "metadata": {},
     "output_type": "execute_result"
    }
   ],
   "source": [
    "x = tf.constant([2., 1., 0.1])\n",
    "layer = layers.Softmax(axis=-1)\n",
    "out = layer(x)\n",
    "out"
   ]
  },
  {
   "cell_type": "code",
   "execution_count": 15,
   "id": "d5dd01dd",
   "metadata": {},
   "outputs": [
    {
     "data": {
      "text/plain": [
       "<tf.Tensor: shape=(3,), dtype=float32, numpy=array([0.6590012, 0.242433 , 0.0985659], dtype=float32)>"
      ]
     },
     "execution_count": 15,
     "metadata": {},
     "output_type": "execute_result"
    }
   ],
   "source": [
    "out = tf.nn.softmax(x)\n",
    "out"
   ]
  },
  {
   "cell_type": "code",
   "execution_count": 19,
   "id": "1d2438f3",
   "metadata": {},
   "outputs": [
    {
     "data": {
      "text/plain": [
       "<tf.Tensor: shape=(4, 2), dtype=float32, numpy=\n",
       "array([[0.        , 0.        ],\n",
       "       [0.22497952, 0.        ],\n",
       "       [1.0739855 , 0.        ],\n",
       "       [0.10878409, 0.        ]], dtype=float32)>"
      ]
     },
     "execution_count": 19,
     "metadata": {},
     "output_type": "execute_result"
    }
   ],
   "source": [
    "network = Sequential([\n",
    "    layers.Dense(3, activation=tf.nn.relu),\n",
    "#     layers.ReLU(),\n",
    "    layers.Dense(2, activation=tf.nn.relu),\n",
    "#     layers.ReLU\n",
    "])\n",
    "x = tf.random.normal([4, 3])\n",
    "out = network(x)\n",
    "out"
   ]
  },
  {
   "cell_type": "code",
   "execution_count": 20,
   "id": "5ecb9768",
   "metadata": {},
   "outputs": [
    {
     "name": "stdout",
     "output_type": "stream",
     "text": [
      "Model: \"sequential_6\"\n",
      "_________________________________________________________________\n",
      "Layer (type)                 Output Shape              Param #   \n",
      "=================================================================\n",
      "dense_12 (Dense)             (4, 3)                    15        \n",
      "_________________________________________________________________\n",
      "re_lu_3 (ReLU)               (4, 3)                    0         \n",
      "_________________________________________________________________\n",
      "dense_13 (Dense)             (4, 3)                    12        \n",
      "_________________________________________________________________\n",
      "re_lu_4 (ReLU)               (4, 3)                    0         \n",
      "=================================================================\n",
      "Total params: 27\n",
      "Trainable params: 27\n",
      "Non-trainable params: 0\n",
      "_________________________________________________________________\n"
     ]
    }
   ],
   "source": [
    "layers_num = 2\n",
    "network = Sequential([])\n",
    "for _ in range(layers_num):\n",
    "    network.add(layers.Dense(3))\n",
    "    network.add(layers.ReLU())\n",
    "network.build(input_shape=(4,4))\n",
    "network.summary()"
   ]
  },
  {
   "cell_type": "code",
   "execution_count": null,
   "id": "92b7b7ec",
   "metadata": {},
   "outputs": [],
   "source": []
  }
 ],
 "metadata": {
  "kernelspec": {
   "display_name": "tf",
   "language": "python",
   "name": "tf"
  },
  "language_info": {
   "codemirror_mode": {
    "name": "ipython",
    "version": 3
   },
   "file_extension": ".py",
   "mimetype": "text/x-python",
   "name": "python",
   "nbconvert_exporter": "python",
   "pygments_lexer": "ipython3",
   "version": "3.8.19"
  }
 },
 "nbformat": 4,
 "nbformat_minor": 5
}
