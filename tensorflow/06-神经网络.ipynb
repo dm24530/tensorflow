{
 "cells": [
  {
   "cell_type": "code",
   "execution_count": 34,
   "id": "3d7ad4d6",
   "metadata": {},
   "outputs": [],
   "source": [
    "import tensorflow as tf\n",
    "from   tensorflow.keras import datasets, layers, optimizers"
   ]
  },
  {
   "cell_type": "code",
   "execution_count": 35,
   "id": "3bd6a8b6",
   "metadata": {},
   "outputs": [],
   "source": [
    "(x, y),(x_test, y_test) = tf.keras.datasets.mnist.load_data()"
   ]
  },
  {
   "cell_type": "code",
   "execution_count": 36,
   "id": "ee3157bb",
   "metadata": {},
   "outputs": [
    {
     "data": {
      "text/plain": [
       "((60000, 28, 28), (60000,))"
      ]
     },
     "execution_count": 36,
     "metadata": {},
     "output_type": "execute_result"
    }
   ],
   "source": [
    "x.shape, y.shape"
   ]
  },
  {
   "cell_type": "code",
   "execution_count": 37,
   "id": "b479eaa5",
   "metadata": {},
   "outputs": [
    {
     "data": {
      "text/plain": [
       "(0, 255, 33.318421449829934)"
      ]
     },
     "execution_count": 37,
     "metadata": {},
     "output_type": "execute_result"
    }
   ],
   "source": [
    "x.min(), x.max(), x.mean()"
   ]
  },
  {
   "cell_type": "code",
   "execution_count": 38,
   "id": "c6bf863c",
   "metadata": {},
   "outputs": [
    {
     "data": {
      "text/plain": [
       "((10000, 28, 28), (10000,))"
      ]
     },
     "execution_count": 38,
     "metadata": {},
     "output_type": "execute_result"
    }
   ],
   "source": [
    " x_test.shape, y_test.shape"
   ]
  },
  {
   "cell_type": "code",
   "execution_count": 39,
   "id": "c541e86f",
   "metadata": {},
   "outputs": [
    {
     "data": {
      "text/plain": [
       "array([5, 0, 4, 1], dtype=uint8)"
      ]
     },
     "execution_count": 39,
     "metadata": {},
     "output_type": "execute_result"
    }
   ],
   "source": [
    "y[:4]"
   ]
  },
  {
   "cell_type": "code",
   "execution_count": 40,
   "id": "bb48d59c",
   "metadata": {},
   "outputs": [
    {
     "data": {
      "text/plain": [
       "<tf.Tensor: shape=(4, 10), dtype=float32, numpy=\n",
       "array([[0., 0., 0., 0., 0., 1., 0., 0., 0., 0.],\n",
       "       [1., 0., 0., 0., 0., 0., 0., 0., 0., 0.],\n",
       "       [0., 0., 0., 0., 1., 0., 0., 0., 0., 0.],\n",
       "       [0., 1., 0., 0., 0., 0., 0., 0., 0., 0.]], dtype=float32)>"
      ]
     },
     "execution_count": 40,
     "metadata": {},
     "output_type": "execute_result"
    }
   ],
   "source": [
    "y_onehot = tf.one_hot(y, depth=10)\n",
    "y_onehot[:4] "
   ]
  },
  {
   "cell_type": "code",
   "execution_count": 41,
   "id": "a03d1629",
   "metadata": {},
   "outputs": [],
   "source": [
    "(x, y), (x_test, y_test) = tf.keras.datasets.cifar10.load_data()"
   ]
  },
  {
   "cell_type": "code",
   "execution_count": 42,
   "id": "dc5cff75",
   "metadata": {},
   "outputs": [
    {
     "data": {
      "text/plain": [
       "((50000, 32, 32, 3), (50000, 1), (10000, 32, 32, 3), (10000, 1))"
      ]
     },
     "execution_count": 42,
     "metadata": {},
     "output_type": "execute_result"
    }
   ],
   "source": [
    "x.shape, y.shape, x_test.shape, y_test.shape"
   ]
  },
  {
   "cell_type": "code",
   "execution_count": 43,
   "id": "ad097e76",
   "metadata": {},
   "outputs": [
    {
     "data": {
      "text/plain": [
       "(0, 255)"
      ]
     },
     "execution_count": 43,
     "metadata": {},
     "output_type": "execute_result"
    }
   ],
   "source": [
    "x.min(), x.max()"
   ]
  },
  {
   "cell_type": "code",
   "execution_count": 44,
   "id": "47c22582",
   "metadata": {},
   "outputs": [
    {
     "data": {
      "text/plain": [
       "array([[6],\n",
       "       [9],\n",
       "       [9],\n",
       "       [4]], dtype=uint8)"
      ]
     },
     "execution_count": 44,
     "metadata": {},
     "output_type": "execute_result"
    }
   ],
   "source": [
    "y[:4]"
   ]
  },
  {
   "cell_type": "code",
   "execution_count": 45,
   "id": "306b4c40",
   "metadata": {},
   "outputs": [
    {
     "data": {
      "text/plain": [
       "<TensorSliceDataset shapes: (32, 32, 3), types: tf.uint8>"
      ]
     },
     "execution_count": 45,
     "metadata": {},
     "output_type": "execute_result"
    }
   ],
   "source": [
    "db = tf.data.Dataset.from_tensor_slices(x_test)\n",
    "db"
   ]
  },
  {
   "cell_type": "code",
   "execution_count": 46,
   "id": "38cfab00",
   "metadata": {},
   "outputs": [
    {
     "data": {
      "text/plain": [
       "TensorShape([32, 32, 3])"
      ]
     },
     "execution_count": 46,
     "metadata": {},
     "output_type": "execute_result"
    }
   ],
   "source": [
    "next(iter(db)).shape"
   ]
  },
  {
   "cell_type": "code",
   "execution_count": 47,
   "id": "516c5735",
   "metadata": {},
   "outputs": [],
   "source": [
    "db = tf.data.Dataset.from_tensor_slices((x_test, y_test))"
   ]
  },
  {
   "cell_type": "code",
   "execution_count": 48,
   "id": "1ab553f9",
   "metadata": {},
   "outputs": [
    {
     "data": {
      "text/plain": [
       "TensorShape([32, 32, 3])"
      ]
     },
     "execution_count": 48,
     "metadata": {},
     "output_type": "execute_result"
    }
   ],
   "source": [
    "next(iter(db))[0].shape"
   ]
  },
  {
   "cell_type": "code",
   "execution_count": 49,
   "id": "3455e744",
   "metadata": {},
   "outputs": [
    {
     "data": {
      "text/plain": [
       "TensorShape([1])"
      ]
     },
     "execution_count": 49,
     "metadata": {},
     "output_type": "execute_result"
    }
   ],
   "source": [
    "next(iter(db))[1].shape"
   ]
  },
  {
   "cell_type": "code",
   "execution_count": 50,
   "id": "6179926d",
   "metadata": {},
   "outputs": [
    {
     "data": {
      "text/plain": [
       "<ShuffleDataset shapes: ((32, 32, 3), (1,)), types: (tf.uint8, tf.uint8)>"
      ]
     },
     "execution_count": 50,
     "metadata": {},
     "output_type": "execute_result"
    }
   ],
   "source": [
    "db = db.shuffle(10000)\n",
    "db"
   ]
  },
  {
   "cell_type": "markdown",
   "id": "afc8b38c",
   "metadata": {},
   "source": [
    "## 数据预处理"
   ]
  },
  {
   "cell_type": "code",
   "execution_count": 51,
   "id": "fd3a7468",
   "metadata": {},
   "outputs": [],
   "source": [
    "def preprocess(x, y):\n",
    "    x = tf.cast(x, dtype=tf.float32)/255.\n",
    "    y = tf.cast(y, dtype=tf.int32)\n",
    "    y = tf.one_hot(y, depth=10)\n",
    "    return x, y"
   ]
  },
  {
   "cell_type": "code",
   "execution_count": 52,
   "id": "dd63e5eb",
   "metadata": {},
   "outputs": [],
   "source": [
    "db2 = db.map(preprocess)"
   ]
  },
  {
   "cell_type": "code",
   "execution_count": 53,
   "id": "5834de62",
   "metadata": {},
   "outputs": [],
   "source": [
    "res = next(iter(db2))"
   ]
  },
  {
   "cell_type": "code",
   "execution_count": 54,
   "id": "5747fd1f",
   "metadata": {},
   "outputs": [
    {
     "data": {
      "text/plain": [
       "(TensorShape([32, 32, 3]), TensorShape([1, 10]))"
      ]
     },
     "execution_count": 54,
     "metadata": {},
     "output_type": "execute_result"
    }
   ],
   "source": [
    "res[0].shape, res[1].shape"
   ]
  },
  {
   "cell_type": "code",
   "execution_count": 55,
   "id": "122e4f40",
   "metadata": {},
   "outputs": [
    {
     "data": {
      "text/plain": [
       "<tf.Tensor: shape=(1, 10), dtype=float32, numpy=array([[0., 0., 0., 0., 0., 0., 0., 1., 0., 0.]], dtype=float32)>"
      ]
     },
     "execution_count": 55,
     "metadata": {},
     "output_type": "execute_result"
    }
   ],
   "source": [
    "res[1][:2]"
   ]
  },
  {
   "cell_type": "code",
   "execution_count": 56,
   "id": "23a3093e",
   "metadata": {},
   "outputs": [
    {
     "data": {
      "text/plain": [
       "(TensorShape([32, 32, 32, 3]), TensorShape([32, 1, 10]))"
      ]
     },
     "execution_count": 56,
     "metadata": {},
     "output_type": "execute_result"
    }
   ],
   "source": [
    "db3 = db2.batch(32)\n",
    "res = next(iter(db3))\n",
    "res[0].shape, res[1].shape"
   ]
  },
  {
   "cell_type": "code",
   "execution_count": 57,
   "id": "a2dd7987",
   "metadata": {},
   "outputs": [],
   "source": [
    "def mnist_dataset():\n",
    "    (x, y), (x_val, y_val) = datasets.fashion_mnist.load_data()\n",
    "    y = tf.one_hot(y, depth=10)\n",
    "    y_val = tf.one_hot(y_val, depth=10)\n",
    "    \n",
    "    ds = tf.data.Dataset.from_tensor_slices((x, y))\n",
    "    ds = ds.map(preprocess)\n",
    "    ds = ds.shuffle(60000).batch(100)\n",
    "    \n",
    "    ds_val = tf.data.Dataset.from_tensor_slices((x_val, y_val))\n",
    "    ds_val = ds_val.map(preprocess)\n",
    "    ds_val = ds_val.shuffle(10000).batch(100)\n",
    "    return ds, ds_val"
   ]
  },
  {
   "cell_type": "markdown",
   "id": "315e3a59",
   "metadata": {},
   "source": [
    "# mnist_tensor"
   ]
  },
  {
   "cell_type": "code",
   "execution_count": 58,
   "id": "1e0bee66",
   "metadata": {},
   "outputs": [],
   "source": [
    "import tensorflow as tf\n",
    "from tensorflow.keras import datasets\n",
    "import os"
   ]
  },
  {
   "cell_type": "code",
   "execution_count": 59,
   "id": "642dce06",
   "metadata": {},
   "outputs": [
    {
     "data": {
      "text/plain": [
       "'2.4.1'"
      ]
     },
     "execution_count": 59,
     "metadata": {},
     "output_type": "execute_result"
    }
   ],
   "source": [
    "tf.__version__"
   ]
  },
  {
   "cell_type": "code",
   "execution_count": 60,
   "id": "b463f5df",
   "metadata": {},
   "outputs": [],
   "source": [
    "def preprocess(x, y):\n",
    "    x = tf.cast(x, dtype=tf.float32)/255.\n",
    "    y = tf.cast(y, dtype=tf.int32)\n",
    "    y = tf.one_hot(y, depth=10)\n",
    "    \n",
    "    return x, y"
   ]
  },
  {
   "cell_type": "code",
   "execution_count": 61,
   "id": "3383b280",
   "metadata": {},
   "outputs": [
    {
     "name": "stdout",
     "output_type": "stream",
     "text": [
      "x: (60000, 28, 28) y: (60000,) x_test: (10000, 28, 28) y_test: (10000,)\n"
     ]
    }
   ],
   "source": [
    "(x, y),(x_test, y_test) = datasets.mnist.load_data()\n",
    "print('x:', x.shape, 'y:', y.shape, 'x_test:',x_test.shape, 'y_test:',y_test.shape)"
   ]
  },
  {
   "cell_type": "markdown",
   "id": "be4f0ba0",
   "metadata": {},
   "source": [
    "从输入张量 x 和 y 创建一个数据集对象 train_db。这个数据集对象在机器学习中常用于数据的批处理、数据加载和数据集管理。通过这种方式，可以将 x 和 y 数据对应地组织成样本，方便后续训练模型时使用"
   ]
  },
  {
   "cell_type": "code",
   "execution_count": 62,
   "id": "92f3019d",
   "metadata": {},
   "outputs": [],
   "source": [
    "train_db = tf.data.Dataset.from_tensor_slices((x, y))"
   ]
  },
  {
   "cell_type": "markdown",
   "id": "6a2f1d3f",
   "metadata": {},
   "source": [
    "这段代码是针对一个训练数据集进行操作的。具体来说，该代码将训练数据集进行随机重排(shuffle)，然后按批次大小为128进行分组(batch)，接着对每个样本应用预处理函数(preprocess)，最后重复(repeat)这个过程30次，以便将整个数据集多次用于训练。这种操作通常用于机器学习模型的训练过程。"
   ]
  },
  {
   "cell_type": "code",
   "execution_count": 63,
   "id": "f5b9e454",
   "metadata": {},
   "outputs": [],
   "source": [
    "train_db = train_db.shuffle(60000).batch(128).map(preprocess).repeat(30)"
   ]
  },
  {
   "cell_type": "code",
   "execution_count": 65,
   "id": "1e2a62b4",
   "metadata": {},
   "outputs": [],
   "source": [
    "test_db = tf.data.Dataset.from_tensor_slices((x_test, y_test))\n",
    "test_db = test_db.shuffle(10000).batch(128).map(preprocess)"
   ]
  },
  {
   "cell_type": "markdown",
   "id": "3046008a",
   "metadata": {},
   "source": [
    "这行代码的意思是从`train_db`数据集中获取下一个元素，并将其拆分为`x`和`y`两个变量。在这种情况下，`train_db`可能是一个可迭代的数据集，比如一个数据加载器，每次迭代会返回一个包含输入数据`x`和标签数据`y`的元素。通过使用`next`函数和`iter`方法，代码提取了下一个元素，并将其分配给`x`和`y`这两个变量。\n",
    "\n",
    "请确保在运行这行代码之前，`train_db`已经被正确定义和初始化，并且包含了您希望处理的数据。如果`train_db`是一个自定义的数据集或数据加载器，您可能需要先检查数据的格式和内容，以确保代码能正确地从中获取`x`和`y`。\n"
   ]
  },
  {
   "cell_type": "code",
   "execution_count": 66,
   "id": "fe932756",
   "metadata": {},
   "outputs": [],
   "source": [
    "x, y = next(iter(train_db))"
   ]
  },
  {
   "cell_type": "code",
   "execution_count": 67,
   "id": "18d117a6",
   "metadata": {},
   "outputs": [
    {
     "name": "stdout",
     "output_type": "stream",
     "text": [
      "train sample: (128, 28, 28) (128, 10)\n"
     ]
    }
   ],
   "source": [
    "print('train sample:', x.shape, y.shape)"
   ]
  },
  {
   "cell_type": "markdown",
   "id": "fac3a474",
   "metadata": {},
   "source": [
    "w1,b1 = tf.Variable(tf.random.truncated_normal([784, 512], stddev=0.1)),tf.Variable(tf.zeros([512]))\n",
    "这段代码使用 TensorFlow 库创建了两个变量 `w1` 和 `b1`，其中 `w1` 是一个形状为 `[784, 512]` 的张量（即一个矩阵），通过 `tf.random.truncated_normal([784, 512], stddev=0.1)` 函数生成具有截断正态分布的随机值，标准差为 0.1。而 `b1` 则是一个形状为 `[512]` 的张量（即一个向量），通过 `tf.zeros([512])` 函数生成全部为零的张量。这通常在神经网络中用于初始化权重和偏差参数。\n",
    "\n",
    "如果你想训练一个神经网络，这段代码可能被用于初始化隐藏层的权重 `w1` 和偏置 `b1`。\n"
   ]
  },
  {
   "cell_type": "code",
   "execution_count": 75,
   "id": "15dd68bd",
   "metadata": {},
   "outputs": [],
   "source": [
    "def main():\n",
    "    lr = 1e-3\n",
    "    \n",
    "    w1,b1 = tf.Variable(tf.random.truncated_normal([784, 512], stddev=0.1)),tf.Variable(tf.zeros([512]))\n",
    "    \n",
    "    w2,b2 = tf.Variable(tf.random.truncated_normal([512, 256], stddev=0.1)),tf.Variable(tf.zeros([256]))\n",
    "    \n",
    "    w3,b3 = tf.Variable(tf.random.truncated_normal([256, 10], stddev=0.1)),tf.Variable(tf.zeros([10]))\n",
    "    \n",
    "    for step, (x,y) in enumerate(train_db):\n",
    "        \n",
    "        x = tf.reshape(x, (-1, 784))\n",
    "        \n",
    "        with tf.GradientTape() as tape:\n",
    "            \n",
    "            h1 = tf.nn.relu(x@w1+b1)\n",
    "            \n",
    "            h2 = tf.nn.relu(h1@w2+b2)\n",
    "            \n",
    "            out = h2@w3+b3\n",
    "            \n",
    "            loss = tf.square(y, out)\n",
    "            loss = tf.reduce_mean(loss, axis=1)\n",
    "            \n",
    "            grads = tape.gradient(loss, [w1, b1, w2, b2, w3, b3])\n",
    "            \n",
    "            for p, g in zip([w1, b1, w2, b2, w3, b3], grads):\n",
    "                p.assign_sub(lr * g)\n",
    "                \n",
    "            if step % 100 == 0:\n",
    "                print(step, 'loss:', float(loss))\n",
    "                \n",
    "            if step % 500 == 0:\n",
    "                total, total_correct = 0., 0\n",
    "                \n",
    "                for step, (x,y) in enumerate(test_db):\n",
    "                    h1 = tf.nn.relu(x @ w1 + b1)\n",
    "                    h2 = tf.nn.relu(h1@w2+b2)\n",
    "                    out = h2@w3+b3\n",
    "                    \n",
    "                    pred = tf.argmax(out, axis=1)\n",
    "                    \n",
    "                    y = tf.argmax(y, axis=1)\n",
    "                    \n",
    "                    correct = tf.equal(pred, y)\n",
    "                    \n",
    "                    total_correct += tf.reduce_sum(tf.cast(correct, dtype=tf.int32)).numpy()\n",
    "                    total += x.shape[0]\n",
    "                    \n",
    "                print(step, 'Evaluate ACC:', total_correct/total )\n",
    "                    \n",
    "                    \n"
   ]
  },
  {
   "cell_type": "code",
   "execution_count": 76,
   "id": "d155caef",
   "metadata": {},
   "outputs": [
    {
     "name": "stderr",
     "output_type": "stream",
     "text": [
      "2024-07-11 16:59:37.081372: I tensorflow/stream_executor/platform/default/dso_loader.cc:49] Successfully opened dynamic library libcublas.so.10\n"
     ]
    },
    {
     "ename": "TypeError",
     "evalue": "unsupported operand type(s) for *: 'float' and 'NoneType'",
     "output_type": "error",
     "traceback": [
      "\u001b[0;31m---------------------------------------------------------------------------\u001b[0m",
      "\u001b[0;31mTypeError\u001b[0m                                 Traceback (most recent call last)",
      "Cell \u001b[0;32mIn[76], line 1\u001b[0m\n\u001b[0;32m----> 1\u001b[0m \u001b[43mmain\u001b[49m\u001b[43m(\u001b[49m\u001b[43m)\u001b[49m\n",
      "Cell \u001b[0;32mIn[75], line 28\u001b[0m, in \u001b[0;36mmain\u001b[0;34m()\u001b[0m\n\u001b[1;32m     25\u001b[0m grads \u001b[38;5;241m=\u001b[39m tape\u001b[38;5;241m.\u001b[39mgradient(loss, [w1, b1, w2, b2, w3, b3])\n\u001b[1;32m     27\u001b[0m \u001b[38;5;28;01mfor\u001b[39;00m p, g \u001b[38;5;129;01min\u001b[39;00m \u001b[38;5;28mzip\u001b[39m([w1, b1, w2, b2, w3, b3], grads):\n\u001b[0;32m---> 28\u001b[0m     p\u001b[38;5;241m.\u001b[39massign_sub(\u001b[43mlr\u001b[49m\u001b[43m \u001b[49m\u001b[38;5;241;43m*\u001b[39;49m\u001b[43m \u001b[49m\u001b[43mg\u001b[49m)\n\u001b[1;32m     30\u001b[0m \u001b[38;5;28;01mif\u001b[39;00m step \u001b[38;5;241m%\u001b[39m \u001b[38;5;241m100\u001b[39m \u001b[38;5;241m==\u001b[39m \u001b[38;5;241m0\u001b[39m:\n\u001b[1;32m     31\u001b[0m     \u001b[38;5;28mprint\u001b[39m(step, \u001b[38;5;124m'\u001b[39m\u001b[38;5;124mloss:\u001b[39m\u001b[38;5;124m'\u001b[39m, \u001b[38;5;28mfloat\u001b[39m(loss))\n",
      "\u001b[0;31mTypeError\u001b[0m: unsupported operand type(s) for *: 'float' and 'NoneType'"
     ]
    }
   ],
   "source": [
    "# main()"
   ]
  },
  {
   "cell_type": "markdown",
   "id": "f318fa56",
   "metadata": {},
   "source": [
    "# 全链接层"
   ]
  },
  {
   "cell_type": "code",
   "execution_count": 86,
   "id": "1aeb0047",
   "metadata": {},
   "outputs": [
    {
     "name": "stdout",
     "output_type": "stream",
     "text": [
      "Model: \"sequential_4\"\n",
      "_________________________________________________________________\n",
      "Layer (type)                 Output Shape              Param #   \n",
      "=================================================================\n",
      "dense_12 (Dense)             (None, 2)                 8         \n",
      "_________________________________________________________________\n",
      "dense_13 (Dense)             (None, 2)                 6         \n",
      "_________________________________________________________________\n",
      "dense_14 (Dense)             (None, 2)                 6         \n",
      "=================================================================\n",
      "Total params: 20\n",
      "Trainable params: 20\n",
      "Non-trainable params: 0\n",
      "_________________________________________________________________\n",
      "dense_12/kernel:0 (3, 2)\n",
      "dense_12/bias:0 (2,)\n",
      "dense_13/kernel:0 (2, 2)\n",
      "dense_13/bias:0 (2,)\n",
      "dense_14/kernel:0 (2, 2)\n",
      "dense_14/bias:0 (2,)\n"
     ]
    }
   ],
   "source": [
    "import tensorflow as tf\n",
    "from tensorflow import keras\n",
    "\n",
    "x = tf.random.normal([2, 3])\n",
    "\n",
    "model = keras.Sequential([\n",
    "    keras.layers.Dense(2, activation='relu'),\n",
    "    keras.layers.Dense(2, activation='relu'),\n",
    "    keras.layers.Dense(2)\n",
    "])\n",
    "\n",
    "model.build(input_shape=[None, 3])\n",
    "model.summary()\n",
    "\n",
    "for p in model.trainable_variables:\n",
    "    print(p.name, p.shape)"
   ]
  },
  {
   "cell_type": "markdown",
   "id": "a40a0da2",
   "metadata": {},
   "source": [
    "# 输出方式"
   ]
  },
  {
   "cell_type": "code",
   "execution_count": 88,
   "id": "2d3cead5",
   "metadata": {},
   "outputs": [
    {
     "data": {
      "text/plain": [
       "<tf.Tensor: shape=(10,), dtype=float64, numpy=\n",
       "array([-6.        , -4.66666667, -3.33333333, -2.        , -0.66666667,\n",
       "        0.66666667,  2.        ,  3.33333333,  4.66666667,  6.        ])>"
      ]
     },
     "execution_count": 88,
     "metadata": {},
     "output_type": "execute_result"
    }
   ],
   "source": [
    "a = tf.linspace(-6, 6, 10)\n",
    "a"
   ]
  },
  {
   "cell_type": "code",
   "execution_count": 89,
   "id": "62f2b178",
   "metadata": {},
   "outputs": [
    {
     "data": {
      "text/plain": [
       "<tf.Tensor: shape=(10,), dtype=float64, numpy=\n",
       "array([0.00247262, 0.00931596, 0.0344452 , 0.11920292, 0.33924363,\n",
       "       0.66075637, 0.88079708, 0.9655548 , 0.99068404, 0.99752738])>"
      ]
     },
     "execution_count": 89,
     "metadata": {},
     "output_type": "execute_result"
    }
   ],
   "source": [
    "tf.sigmoid(a)"
   ]
  },
  {
   "cell_type": "code",
   "execution_count": 92,
   "id": "d82016b2",
   "metadata": {},
   "outputs": [
    {
     "data": {
      "text/plain": [
       "(<tf.Tensor: shape=(), dtype=float32, numpy=-14.9226>,\n",
       " <tf.Tensor: shape=(), dtype=float32, numpy=15.413094>)"
      ]
     },
     "execution_count": 92,
     "metadata": {},
     "output_type": "execute_result"
    }
   ],
   "source": [
    "x = tf.random.normal([1, 28, 28])*5\n",
    "tf.reduce_min(x), tf.reduce_max(x)"
   ]
  },
  {
   "cell_type": "code",
   "execution_count": 93,
   "id": "0ca0de06",
   "metadata": {},
   "outputs": [
    {
     "data": {
      "text/plain": [
       "(<tf.Tensor: shape=(), dtype=float32, numpy=3.305195e-07>,\n",
       " <tf.Tensor: shape=(), dtype=float32, numpy=0.99999976>)"
      ]
     },
     "execution_count": 93,
     "metadata": {},
     "output_type": "execute_result"
    }
   ],
   "source": [
    "x = tf.sigmoid(x)\n",
    "tf.reduce_min(x), tf.reduce_max(x)"
   ]
  },
  {
   "cell_type": "markdown",
   "id": "c5d4d956",
   "metadata": {},
   "source": [
    "## 所有概率之和为1 softmax "
   ]
  },
  {
   "cell_type": "code",
   "execution_count": 96,
   "id": "72ffd98f",
   "metadata": {},
   "outputs": [
    {
     "data": {
      "text/plain": [
       "<tf.Tensor: shape=(5,), dtype=float64, numpy=array([0.11920292, 0.26894142, 0.5       , 0.73105858, 0.88079708])>"
      ]
     },
     "execution_count": 96,
     "metadata": {},
     "output_type": "execute_result"
    }
   ],
   "source": [
    "a = tf.linspace(-2, 2, 5)\n",
    "tf.sigmoid(a)"
   ]
  },
  {
   "cell_type": "code",
   "execution_count": 97,
   "id": "ef2e2b0b",
   "metadata": {},
   "outputs": [
    {
     "data": {
      "text/plain": [
       "<tf.Tensor: shape=(5,), dtype=float64, numpy=array([0.01165623, 0.03168492, 0.08612854, 0.23412166, 0.63640865])>"
      ]
     },
     "execution_count": 97,
     "metadata": {},
     "output_type": "execute_result"
    }
   ],
   "source": [
    "tf.nn.softmax(a)"
   ]
  },
  {
   "cell_type": "code",
   "execution_count": 98,
   "id": "fd873df9",
   "metadata": {},
   "outputs": [
    {
     "data": {
      "text/plain": [
       "<tf.Tensor: shape=(1, 10), dtype=float32, numpy=\n",
       "array([[ 0.14830399, -0.88091946, -0.4907012 , -0.1055913 , -1.2015953 ,\n",
       "        -0.9553523 , -1.8979688 , -1.6865168 , -1.1679001 , -1.4762025 ]],\n",
       "      dtype=float32)>"
      ]
     },
     "execution_count": 98,
     "metadata": {},
     "output_type": "execute_result"
    }
   ],
   "source": [
    "logits = tf.random.uniform([1, 10], minval=-2, maxval=2)\n",
    "logits"
   ]
  },
  {
   "cell_type": "code",
   "execution_count": 100,
   "id": "347e8699",
   "metadata": {},
   "outputs": [
    {
     "data": {
      "text/plain": [
       "<tf.Tensor: shape=(1, 10), dtype=float32, numpy=\n",
       "array([[0.24963708, 0.08919141, 0.13176276, 0.1936617 , 0.0647225 ,\n",
       "        0.08279369, 0.03225701, 0.03985259, 0.0669405 , 0.04918072]],\n",
       "      dtype=float32)>"
      ]
     },
     "execution_count": 100,
     "metadata": {},
     "output_type": "execute_result"
    }
   ],
   "source": [
    "prob = tf.nn.softmax(logits, axis=1)\n",
    "prob"
   ]
  },
  {
   "cell_type": "code",
   "execution_count": 101,
   "id": "237b41dd",
   "metadata": {},
   "outputs": [
    {
     "data": {
      "text/plain": [
       "<tf.Tensor: shape=(), dtype=float32, numpy=1.0>"
      ]
     },
     "execution_count": 101,
     "metadata": {},
     "output_type": "execute_result"
    }
   ],
   "source": [
    "tf.reduce_sum(prob)"
   ]
  },
  {
   "cell_type": "markdown",
   "id": "84488840",
   "metadata": {},
   "source": [
    "# 损失函数"
   ]
  },
  {
   "cell_type": "code",
   "execution_count": 103,
   "id": "2cb17dc2",
   "metadata": {},
   "outputs": [],
   "source": [
    "y = tf.constant([1, 2, 3, 0, 2]) \n",
    "y = tf.one_hot(y, depth=4)\n",
    "y = tf.cast(y, dtype=tf.float32)"
   ]
  },
  {
   "cell_type": "code",
   "execution_count": 104,
   "id": "1ca1d9b2",
   "metadata": {},
   "outputs": [],
   "source": [
    "out = tf.random.normal([5, 4])"
   ]
  },
  {
   "cell_type": "code",
   "execution_count": 106,
   "id": "07339810",
   "metadata": {},
   "outputs": [
    {
     "data": {
      "text/plain": [
       "<tf.Tensor: shape=(), dtype=float32, numpy=0.8125556>"
      ]
     },
     "execution_count": 106,
     "metadata": {},
     "output_type": "execute_result"
    }
   ],
   "source": [
    "loss1 = tf.reduce_mean(tf.square(y-out))\n",
    "loss1"
   ]
  },
  {
   "cell_type": "code",
   "execution_count": 107,
   "id": "e7c4182c",
   "metadata": {},
   "outputs": [
    {
     "data": {
      "text/plain": [
       "<tf.Tensor: shape=(), dtype=float32, numpy=0.8125556>"
      ]
     },
     "execution_count": 107,
     "metadata": {},
     "output_type": "execute_result"
    }
   ],
   "source": [
    "loss2 = tf.square(tf.norm(y-out))/(5*4)\n",
    "loss2"
   ]
  },
  {
   "cell_type": "code",
   "execution_count": 109,
   "id": "9e17d6a2",
   "metadata": {},
   "outputs": [
    {
     "data": {
      "text/plain": [
       "<tf.Tensor: shape=(), dtype=float32, numpy=0.8125556>"
      ]
     },
     "execution_count": 109,
     "metadata": {},
     "output_type": "execute_result"
    }
   ],
   "source": [
    "loss3 = tf.reduce_mean(tf.losses.MSE(y, out))\n",
    "loss3"
   ]
  },
  {
   "cell_type": "code",
   "execution_count": 110,
   "id": "41249b57",
   "metadata": {},
   "outputs": [
    {
     "data": {
      "text/plain": [
       "<tf.Tensor: shape=(4,), dtype=float32, numpy=array([-0.5, -0.5, -0.5, -0.5], dtype=float32)>"
      ]
     },
     "execution_count": 110,
     "metadata": {},
     "output_type": "execute_result"
    }
   ],
   "source": [
    "a = tf.fill([4],0.25)\n",
    "a*tf.math.log(a)/tf.math.log(2.)"
   ]
  },
  {
   "cell_type": "code",
   "execution_count": 112,
   "id": "33d412ba",
   "metadata": {},
   "outputs": [
    {
     "data": {
      "text/plain": [
       "<tf.Tensor: shape=(), dtype=float32, numpy=2.0>"
      ]
     },
     "execution_count": 112,
     "metadata": {},
     "output_type": "execute_result"
    }
   ],
   "source": [
    "-tf.reduce_sum(a*tf.math.log(a)/tf.math.log(2.))"
   ]
  },
  {
   "cell_type": "code",
   "execution_count": 113,
   "id": "65828dc3",
   "metadata": {},
   "outputs": [
    {
     "data": {
      "text/plain": [
       "<tf.Tensor: shape=(), dtype=float32, numpy=1.3567796>"
      ]
     },
     "execution_count": 113,
     "metadata": {},
     "output_type": "execute_result"
    }
   ],
   "source": [
    "a = tf.constant([0.1,0.1,0.1,0.7])\n",
    "-tf.reduce_sum(a*tf.math.log(a)/tf.math.log(2.))"
   ]
  },
  {
   "cell_type": "code",
   "execution_count": 114,
   "id": "468a23d4",
   "metadata": {},
   "outputs": [
    {
     "data": {
      "text/plain": [
       "<tf.Tensor: shape=(), dtype=float32, numpy=0.24194068>"
      ]
     },
     "execution_count": 114,
     "metadata": {},
     "output_type": "execute_result"
    }
   ],
   "source": [
    "a = tf.constant([0.01,0.01,0.01,0.97])\n",
    "-tf.reduce_sum(a*tf.math.log(a)/tf.math.log(2.))"
   ]
  },
  {
   "cell_type": "markdown",
   "id": "3b608982",
   "metadata": {},
   "source": [
    "## 交叉熵"
   ]
  },
  {
   "cell_type": "code",
   "execution_count": 115,
   "id": "60fcf8e1",
   "metadata": {},
   "outputs": [
    {
     "data": {
      "text/plain": [
       "<tf.Tensor: shape=(), dtype=float32, numpy=1.3862944>"
      ]
     },
     "execution_count": 115,
     "metadata": {},
     "output_type": "execute_result"
    }
   ],
   "source": [
    "tf.losses.categorical_crossentropy([0, 1, 0, 0],[0.25,0.25,0.25,0.25])"
   ]
  },
  {
   "cell_type": "code",
   "execution_count": 118,
   "id": "8983c5fb",
   "metadata": {},
   "outputs": [
    {
     "data": {
      "text/plain": [
       "<tf.Tensor: shape=(), dtype=float32, numpy=0.35667497>"
      ]
     },
     "execution_count": 118,
     "metadata": {},
     "output_type": "execute_result"
    }
   ],
   "source": [
    "tf.losses.categorical_crossentropy([0, 1, 0, 0],[0.1,0.7,0.1,0.1])"
   ]
  },
  {
   "cell_type": "code",
   "execution_count": 120,
   "id": "2bf11c94",
   "metadata": {},
   "outputs": [
    {
     "data": {
      "text/plain": [
       "<tf.Tensor: shape=(), dtype=float32, numpy=2.3025851>"
      ]
     },
     "execution_count": 120,
     "metadata": {},
     "output_type": "execute_result"
    }
   ],
   "source": [
    "tf.losses.categorical_crossentropy([0, 1, 0, 0],[0.1,0.1,0.7,0.1])"
   ]
  },
  {
   "cell_type": "code",
   "execution_count": 119,
   "id": "ae665912",
   "metadata": {},
   "outputs": [
    {
     "data": {
      "text/plain": [
       "<tf.Tensor: shape=(), dtype=float32, numpy=0.99852884>"
      ]
     },
     "execution_count": 119,
     "metadata": {},
     "output_type": "execute_result"
    }
   ],
   "source": [
    "tf.losses.categorical_crossentropy([0, 1, 0, 0],[0.01,0.07,0.1,0.01])"
   ]
  },
  {
   "cell_type": "code",
   "execution_count": 122,
   "id": "a154eba8",
   "metadata": {},
   "outputs": [
    {
     "data": {
      "text/plain": [
       "<tf.Tensor: shape=(), dtype=float32, numpy=2.3025842>"
      ]
     },
     "execution_count": 122,
     "metadata": {},
     "output_type": "execute_result"
    }
   ],
   "source": [
    "tf.los ses.BinaryCrossentropy()([1], [0.1])"
   ]
  },
  {
   "cell_type": "code",
   "execution_count": 123,
   "id": "fdc089c3",
   "metadata": {},
   "outputs": [
    {
     "data": {
      "text/plain": [
       "<tf.Tensor: shape=(), dtype=float32, numpy=2.3025842>"
      ]
     },
     "execution_count": 123,
     "metadata": {},
     "output_type": "execute_result"
    }
   ],
   "source": [
    "tf.losses.binary_crossentropy([1],[0.1])"
   ]
  },
  {
   "cell_type": "code",
   "execution_count": 124,
   "id": "ed83c7c3",
   "metadata": {},
   "outputs": [],
   "source": [
    "x = tf.random.normal([1, 784])\n",
    "w = tf.random.normal([784, 2])\n",
    "b = tf.zeros([2])"
   ]
  },
  {
   "cell_type": "code",
   "execution_count": 131,
   "id": "9f489e13",
   "metadata": {},
   "outputs": [
    {
     "data": {
      "text/plain": [
       "TensorShape([1, 2])"
      ]
     },
     "execution_count": 131,
     "metadata": {},
     "output_type": "execute_result"
    }
   ],
   "source": [
    "logits = x@w+b\n",
    "logits.shape"
   ]
  },
  {
   "cell_type": "code",
   "execution_count": 127,
   "id": "9d6f32cc",
   "metadata": {},
   "outputs": [
    {
     "data": {
      "text/plain": [
       "<tf.Tensor: shape=(1, 2), dtype=float32, numpy=array([[0.61015946, 0.38984048]], dtype=float32)>"
      ]
     },
     "execution_count": 127,
     "metadata": {},
     "output_type": "execute_result"
    }
   ],
   "source": [
    "prob = tf.math.softmax(logits, axis=1)\n",
    "prob"
   ]
  },
  {
   "cell_type": "code",
   "execution_count": 143,
   "id": "ea3c5289",
   "metadata": {},
   "outputs": [
    {
     "data": {
      "text/plain": [
       "<tf.Tensor: shape=(1, 2), dtype=int32, numpy=array([[0, 1]], dtype=int32)>"
      ]
     },
     "execution_count": 143,
     "metadata": {},
     "output_type": "execute_result"
    }
   ],
   "source": [
    "a = tf.constant([0,1])\n",
    "a = tf.reshape(a, [1,2])\n",
    "a"
   ]
  },
  {
   "cell_type": "code",
   "execution_count": 144,
   "id": "2a446a29",
   "metadata": {},
   "outputs": [
    {
     "data": {
      "text/plain": [
       "<tf.Tensor: shape=(1,), dtype=float32, numpy=array([1.069153], dtype=float32)>"
      ]
     },
     "execution_count": 144,
     "metadata": {},
     "output_type": "execute_result"
    }
   ],
   "source": [
    "# 必须设定from_logits=True，默认没有\n",
    "tf.losses.categorical_crossentropy(a, logits, from_logits=True)"
   ]
  },
  {
   "cell_type": "code",
   "execution_count": 146,
   "id": "acf89882",
   "metadata": {},
   "outputs": [
    {
     "data": {
      "text/plain": [
       "<tf.Tensor: shape=(1,), dtype=float32, numpy=array([0.94201756], dtype=float32)>"
      ]
     },
     "execution_count": 146,
     "metadata": {},
     "output_type": "execute_result"
    }
   ],
   "source": [
    "tf.losses.categorical_crossentropy(a, prob)"
   ]
  },
  {
   "cell_type": "code",
   "execution_count": null,
   "id": "43d2196c",
   "metadata": {},
   "outputs": [],
   "source": []
  }
 ],
 "metadata": {
  "kernelspec": {
   "display_name": "tf",
   "language": "python",
   "name": "tf"
  },
  "language_info": {
   "codemirror_mode": {
    "name": "ipython",
    "version": 3
   },
   "file_extension": ".py",
   "mimetype": "text/x-python",
   "name": "python",
   "nbconvert_exporter": "python",
   "pygments_lexer": "ipython3",
   "version": "3.8.19"
  }
 },
 "nbformat": 4,
 "nbformat_minor": 5
}
